{
  "nbformat": 4,
  "nbformat_minor": 0,
  "metadata": {
    "kernelspec": {
      "display_name": "Python 3",
      "language": "python",
      "name": "python3"
    },
    "language_info": {
      "codemirror_mode": {
        "name": "ipython",
        "version": 3
      },
      "file_extension": ".py",
      "mimetype": "text/x-python",
      "name": "python",
      "nbconvert_exporter": "python",
      "pygments_lexer": "ipython3",
      "version": "3.6.8"
    },
    "colab": {
      "name": "HW 3 Template.ipynb",
      "provenance": [],
      "toc_visible": true,
      "include_colab_link": true
    }
  },
  "cells": [
    {
      "cell_type": "markdown",
      "metadata": {
        "id": "view-in-github",
        "colab_type": "text"
      },
      "source": [
        "<a href=\"https://colab.research.google.com/github/Vakhranev/Networks/blob/master/HW_3_Template.ipynb\" target=\"_parent\"><img src=\"https://colab.research.google.com/assets/colab-badge.svg\" alt=\"Open In Colab\"/></a>"
      ]
    },
    {
      "cell_type": "markdown",
      "metadata": {
        "id": "jiAZ3gSLaEt2",
        "colab_type": "text"
      },
      "source": [
        "# <center>Network Science</center>"
      ]
    },
    {
      "cell_type": "markdown",
      "metadata": {
        "id": "3BL0h-1MaEuE",
        "colab_type": "text"
      },
      "source": [
        "Home Assignment #3: Epidemic Models"
      ]
    },
    {
      "cell_type": "markdown",
      "metadata": {
        "id": "ggpj0rwbaEuM",
        "colab_type": "text"
      },
      "source": [
        "#### <hr /> General Information"
      ]
    },
    {
      "cell_type": "markdown",
      "metadata": {
        "id": "ifCoxtL4aEuQ",
        "colab_type": "text"
      },
      "source": [
        "**Due Date:** 11.06.2020 21:00 <br>\n",
        "**Late submission policy:** -1 points per day <br>\n",
        "\n",
        "\n",
        "Please send your reports to <iakarpov@hse.ru> with message subject of the following structure: <br>\n",
        "**[HSE SNA Magolego 2020] *{LastName}* *{First Name}* HW_3*\n",
        "\n",
        "Support your computations with figures and comments. <br>\n",
        "If you are using IPython Notebook you may use this file as a starting point of your report."
      ]
    },
    {
      "cell_type": "markdown",
      "metadata": {
        "id": "TipFbEucaEuX",
        "colab_type": "text"
      },
      "source": [
        "## Problems"
      ]
    },
    {
      "cell_type": "markdown",
      "metadata": {
        "id": "16UCYSI3aEua",
        "colab_type": "text"
      },
      "source": [
        "### Task 1. Epidemic modelling"
      ]
    },
    {
      "cell_type": "markdown",
      "metadata": {
        "id": "mOG1TzV8aEuf",
        "colab_type": "text"
      },
      "source": [
        "Use any existing network from our [classes](https://dl.dropboxusercontent.com/s/8eo1sjfhu5spb0f/vk.tsv?dl=1)  or your couse project\n",
        "\n",
        "1.1. Using Seminar examples or [ndlib](https://ndlib.readthedocs.io/en/latest/reference/reference.html) implement one of the possible models (SI, SIS, SIR, SEIR, SEIS, SWIR, Threshold, Generalised Threshold, Kertesz Threshold, Independent Cascades) to model epidemics in given network<br>\n"
      ]
    },
    {
      "cell_type": "code",
      "metadata": {
        "id": "EutSig0LaEuj",
        "colab_type": "code",
        "colab": {}
      },
      "source": [
        "# Start your code here\n",
        "#\n",
        "#\n",
        "#\n",
        "import numpy as np\n",
        "import scipy as sp\n",
        "import networkx as nx\n",
        "import matplotlib.pyplot as plt\n",
        "from numpy.linalg import eig\n",
        "from scipy.integrate import odeint\n",
        "%matplotlib inline"
      ],
      "execution_count": 0,
      "outputs": []
    },
    {
      "cell_type": "code",
      "metadata": {
        "id": "V-UCoD-ye0IW",
        "colab_type": "code",
        "colab": {
          "base_uri": "https://localhost:8080/",
          "height": 34
        },
        "outputId": "c1a3ec76-9c0c-470d-cd98-a37f2cf64739"
      },
      "source": [
        "G = nx.read_adjlist('fb.adjlist')\n",
        "n = len(G.nodes())\n",
        "n"
      ],
      "execution_count": 7,
      "outputs": [
        {
          "output_type": "execute_result",
          "data": {
            "text/plain": [
              "494"
            ]
          },
          "metadata": {
            "tags": []
          },
          "execution_count": 7
        }
      ]
    },
    {
      "cell_type": "code",
      "metadata": {
        "id": "NxksDkHVhHD1",
        "colab_type": "code",
        "colab": {}
      },
      "source": [
        "A = np.array(nx.adjacency_matrix(G).todense())\n",
        "beta, gamma = 0.03, 0.2\n",
        "t = np.arange(0,5,0.05)\n",
        "idx = np.random.choice(range(n), 5)\n",
        "i0 = np.zeros((n,))\n",
        "i0[idx] = 1\n",
        "z0 = np.concatenate((1-i0,i0))\n",
        "def sis(z, t, A, n, beta, gamma):\n",
        "    return np.concatenate((\n",
        "        -beta * z[0:n] * A.dot(z[n:2*n]) + gamma * z[n:2*n],\n",
        "         beta * z[0:n] * A.dot(z[n:2*n]) - gamma * z[n:2*n]))\n",
        "z = odeint(sis, z0, t, (A, n, beta, gamma))"
      ],
      "execution_count": 0,
      "outputs": []
    },
    {
      "cell_type": "code",
      "metadata": {
        "id": "ACvaEoQ9mdEN",
        "colab_type": "code",
        "colab": {
          "base_uri": "https://localhost:8080/",
          "height": 34
        },
        "outputId": "b755f814-04f5-4dd6-b761-62004874e2b2"
      },
      "source": [
        "z.shape"
      ],
      "execution_count": 9,
      "outputs": [
        {
          "output_type": "execute_result",
          "data": {
            "text/plain": [
              "(100, 988)"
            ]
          },
          "metadata": {
            "tags": []
          },
          "execution_count": 9
        }
      ]
    },
    {
      "cell_type": "code",
      "metadata": {
        "id": "SwdUylWnmsIz",
        "colab_type": "code",
        "colab": {
          "base_uri": "https://localhost:8080/",
          "height": 425
        },
        "outputId": "bc401dd4-1cca-463c-e45f-24c7cb6e15be"
      },
      "source": [
        "nId = 6\n",
        "s = z[:,0:n]\n",
        "x = z[:,n:2*n]\n",
        "fig, ax = plt.subplots(1,1,figsize=(10,6))\n",
        "ax.plot(s,color = 'blue')\n",
        "ax.plot(x,color = 'red')\n",
        "ax.set_xlabel('$t$')\n",
        "ax.set_ylabel('prob')\n",
        "ax.set_title('Probability for all nodes', fontsize = 15)"
      ],
      "execution_count": 10,
      "outputs": [
        {
          "output_type": "execute_result",
          "data": {
            "text/plain": [
              "Text(0.5, 1.0, 'Probability for all nodes')"
            ]
          },
          "metadata": {
            "tags": []
          },
          "execution_count": 10
        },
        {
          "output_type": "display_data",
          "data": {
            "image/png": "[encoded data removed]",
            "text/plain": [
              "<Figure size 720x432 with 1 Axes>"
            ]
          },
          "metadata": {
            "tags": [],
            "needs_background": "light"
          }
        }
      ]
    },
    {
      "cell_type": "markdown",
      "metadata": {
        "id": "H-oqMzhGaEvF",
        "colab_type": "text"
      },
      "source": [
        "### Task 2. Bonus Task\n",
        "**+10 points:** Using gradient optimization fit Infection or Recovery curve to the [observed data](https://yastat.net/s3/milab/2020/covid19-stat/data/data_struct_12.json?v=1590678089)"
      ]
    },
    {
      "cell_type": "code",
      "metadata": {
        "id": "vCCDLF-daEvM",
        "colab_type": "code",
        "colab": {}
      },
      "source": [
        "# Start your code here\n",
        "#\n",
        "#\n",
        "#"
      ],
      "execution_count": 0,
      "outputs": []
    }
  ]
}