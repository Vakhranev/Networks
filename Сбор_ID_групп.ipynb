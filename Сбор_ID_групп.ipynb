{
  "nbformat": 4,
  "nbformat_minor": 0,
  "metadata": {
    "colab": {
      "name": "Сбор ID групп.ipynb",
      "provenance": [],
      "authorship_tag": "ABX9TyMo5I5XOR5oUNq84mJDPgYO",
      "include_colab_link": true
    },
    "kernelspec": {
      "name": "python3",
      "display_name": "Python 3"
    }
  },
  "cells": [
    {
      "cell_type": "markdown",
      "metadata": {
        "id": "view-in-github",
        "colab_type": "text"
      },
      "source": [
        "<a href=\"https://colab.research.google.com/github/Vakhranev/Networks/blob/master/%D0%A1%D0%B1%D0%BE%D1%80_ID_%D0%B3%D1%80%D1%83%D0%BF%D0%BF.ipynb\" target=\"_parent\"><img src=\"https://colab.research.google.com/assets/colab-badge.svg\" alt=\"Open In Colab\"/></a>"
      ]
    },
    {
      "cell_type": "code",
      "metadata": {
        "id": "Gxh-9aU-71Sf",
        "colab_type": "code",
        "colab": {
          "base_uri": "https://localhost:8080/",
          "height": 255
        },
        "outputId": "aa14c478-127e-4785-b923-8925d1b22f30"
      },
      "source": [
        "!pip3 install vk --user"
      ],
      "execution_count": 1,
      "outputs": [
        {
          "output_type": "stream",
          "text": [
            "Collecting vk\n",
            "  Downloading https://files.pythonhosted.org/packages/9f/fd/698ba8b622ba57d7d936aaf7bf8256fec4e7e2e1c2f3b36fc04381df5281/vk-2.0.2.tar.gz\n",
            "Requirement already satisfied: requests<3.0,>=2.8 in /usr/local/lib/python3.6/dist-packages (from vk) (2.23.0)\n",
            "Requirement already satisfied: certifi>=2017.4.17 in /usr/local/lib/python3.6/dist-packages (from requests<3.0,>=2.8->vk) (2020.4.5.1)\n",
            "Requirement already satisfied: idna<3,>=2.5 in /usr/local/lib/python3.6/dist-packages (from requests<3.0,>=2.8->vk) (2.9)\n",
            "Requirement already satisfied: chardet<4,>=3.0.2 in /usr/local/lib/python3.6/dist-packages (from requests<3.0,>=2.8->vk) (3.0.4)\n",
            "Requirement already satisfied: urllib3!=1.25.0,!=1.25.1,<1.26,>=1.21.1 in /usr/local/lib/python3.6/dist-packages (from requests<3.0,>=2.8->vk) (1.24.3)\n",
            "Building wheels for collected packages: vk\n",
            "  Building wheel for vk (setup.py) ... \u001b[?25l\u001b[?25hdone\n",
            "  Created wheel for vk: filename=vk-2.0.2-cp36-none-any.whl size=8277 sha256=c950e5255f5632c14e563a98ab1bd591be90a3cfb72c0ec392bfe558bb03b078\n",
            "  Stored in directory: /root/.cache/pip/wheels/4c/48/d1/09749ec47d9a30d166122773811f4ccb406f5234f2d84fd29d\n",
            "Successfully built vk\n",
            "Installing collected packages: vk\n",
            "Successfully installed vk-2.0.2\n"
          ],
          "name": "stdout"
        }
      ]
    },
    {
      "cell_type": "code",
      "metadata": {
        "id": "kZn3pH3U_Yr9",
        "colab_type": "code",
        "colab": {}
      },
      "source": [
        "import pandas as pd\n",
        "diacov = pd.read_csv('slovar_edited (2).csv')"
      ],
      "execution_count": 0,
      "outputs": []
    },
    {
      "cell_type": "code",
      "metadata": {
        "id": "wsZIv7mqBva2",
        "colab_type": "code",
        "colab": {
          "base_uri": "https://localhost:8080/",
          "height": 34
        },
        "outputId": "54834067-9e56-4d1d-918d-9693af3f6f81"
      },
      "source": [
        "len(diacov)"
      ],
      "execution_count": 3,
      "outputs": [
        {
          "output_type": "execute_result",
          "data": {
            "text/plain": [
              "16132"
            ]
          },
          "metadata": {
            "tags": []
          },
          "execution_count": 3
        }
      ]
    },
    {
      "cell_type": "code",
      "metadata": {
        "id": "Q3QgTddIB3UH",
        "colab_type": "code",
        "colab": {
          "base_uri": "https://localhost:8080/",
          "height": 204
        },
        "outputId": "0247acd6-007d-4065-e405-1f21e9d4dd07"
      },
      "source": [
        "diacov.head()"
      ],
      "execution_count": 4,
      "outputs": [
        {
          "output_type": "execute_result",
          "data": {
            "text/html": [
              "<div>\n",
              "<style scoped>\n",
              "    .dataframe tbody tr th:only-of-type {\n",
              "        vertical-align: middle;\n",
              "    }\n",
              "\n",
              "    .dataframe tbody tr th {\n",
              "        vertical-align: top;\n",
              "    }\n",
              "\n",
              "    .dataframe thead th {\n",
              "        text-align: right;\n",
              "    }\n",
              "</style>\n",
              "<table border=\"1\" class=\"dataframe\">\n",
              "  <thead>\n",
              "    <tr style=\"text-align: right;\">\n",
              "      <th></th>\n",
              "      <th>(БОНГ)</th>\n",
              "    </tr>\n",
              "  </thead>\n",
              "  <tbody>\n",
              "    <tr>\n",
              "      <th>0</th>\n",
              "      <td>A</td>\n",
              "    </tr>\n",
              "    <tr>\n",
              "      <th>1</th>\n",
              "      <td>AAA</td>\n",
              "    </tr>\n",
              "    <tr>\n",
              "      <th>2</th>\n",
              "      <td>AM</td>\n",
              "    </tr>\n",
              "    <tr>\n",
              "      <th>3</th>\n",
              "      <td>C</td>\n",
              "    </tr>\n",
              "    <tr>\n",
              "      <th>4</th>\n",
              "      <td>DVD</td>\n",
              "    </tr>\n",
              "  </tbody>\n",
              "</table>\n",
              "</div>"
            ],
            "text/plain": [
              "  (БОНГ)\n",
              "0      A\n",
              "1    AAA\n",
              "2     AM\n",
              "3      C\n",
              "4    DVD"
            ]
          },
          "metadata": {
            "tags": []
          },
          "execution_count": 4
        }
      ]
    },
    {
      "cell_type": "markdown",
      "metadata": {
        "id": "42ItMhegMeDm",
        "colab_type": "text"
      },
      "source": [
        "Уберём из списка все слова, в которых менее 4 символов"
      ]
    },
    {
      "cell_type": "code",
      "metadata": {
        "id": "kpUWOIBxClpm",
        "colab_type": "code",
        "colab": {
          "base_uri": "https://localhost:8080/",
          "height": 34
        },
        "outputId": "1f39498d-cb99-44a4-f9f6-fa8a38f0cf5a"
      },
      "source": [
        "d_list = []\n",
        "for word in diacov['(БОНГ)']:\n",
        "  if len(word) > 3:\n",
        "    d_list.append(word)\n",
        "len(d_list)"
      ],
      "execution_count": 5,
      "outputs": [
        {
          "output_type": "execute_result",
          "data": {
            "text/plain": [
              "15121"
            ]
          },
          "metadata": {
            "tags": []
          },
          "execution_count": 5
        }
      ]
    },
    {
      "cell_type": "code",
      "metadata": {
        "id": "qw96LcDJSe62",
        "colab_type": "code",
        "colab": {
          "base_uri": "https://localhost:8080/",
          "height": 272
        },
        "outputId": "6d540ddb-24be-4fbf-9592-a6c9cb21c078"
      },
      "source": [
        "!pip install vk_api"
      ],
      "execution_count": 7,
      "outputs": [
        {
          "output_type": "stream",
          "text": [
            "Collecting vk_api\n",
            "  Downloading https://files.pythonhosted.org/packages/74/7c/435c5e1d7ac7b688b967f0bece58687671dcad6b4260eade1b049dc16403/vk_api-11.8.0.tar.gz\n",
            "Requirement already satisfied: requests in /usr/local/lib/python3.6/dist-packages (from vk_api) (2.23.0)\n",
            "Requirement already satisfied: six in /usr/local/lib/python3.6/dist-packages (from vk_api) (1.12.0)\n",
            "Requirement already satisfied: urllib3!=1.25.0,!=1.25.1,<1.26,>=1.21.1 in /usr/local/lib/python3.6/dist-packages (from requests->vk_api) (1.24.3)\n",
            "Requirement already satisfied: chardet<4,>=3.0.2 in /usr/local/lib/python3.6/dist-packages (from requests->vk_api) (3.0.4)\n",
            "Requirement already satisfied: certifi>=2017.4.17 in /usr/local/lib/python3.6/dist-packages (from requests->vk_api) (2020.4.5.1)\n",
            "Requirement already satisfied: idna<3,>=2.5 in /usr/local/lib/python3.6/dist-packages (from requests->vk_api) (2.9)\n",
            "Building wheels for collected packages: vk-api\n",
            "  Building wheel for vk-api (setup.py) ... \u001b[?25l\u001b[?25hdone\n",
            "  Created wheel for vk-api: filename=vk_api-11.8.0-cp36-none-any.whl size=42249 sha256=b5038d7764ccbc6059d9e20bc28880fdef3234afdc75266005da79af1590da31\n",
            "  Stored in directory: /root/.cache/pip/wheels/39/bb/05/c3d370a1097f993c1089e0c6265f7cb782b4a583110f747805\n",
            "Successfully built vk-api\n",
            "Installing collected packages: vk-api\n",
            "Successfully installed vk-api-11.8.0\n"
          ],
          "name": "stdout"
        }
      ]
    },
    {
      "cell_type": "code",
      "metadata": {
        "id": "vtkATPN9MncP",
        "colab_type": "code",
        "colab": {}
      },
      "source": [
        "import vk_api\n",
        "vk_session = vk_api.VkApi(login, password)\n",
        "vk_session.auth()\n",
        "\n",
        "vk = vk_session.get_api()"
      ],
      "execution_count": 0,
      "outputs": []
    },
    {
      "cell_type": "markdown",
      "metadata": {
        "id": "2E2hiJaIMznO",
        "colab_type": "text"
      },
      "source": [
        "Найдём все группы, в которых используются слова из списка"
      ]
    },
    {
      "cell_type": "code",
      "metadata": {
        "id": "eDjC15c-bSwC",
        "colab_type": "code",
        "colab": {}
      },
      "source": [
        "groups_ids = []\n",
        "for word in d_list:\n",
        "  groups_ids.append([g['id'] for g in vk.groups.search(q=word, sort=2)['items']])"
      ],
      "execution_count": 0,
      "outputs": []
    },
    {
      "cell_type": "code",
      "metadata": {
        "id": "XSdYM_8n6eBi",
        "colab_type": "code",
        "colab": {
          "base_uri": "https://localhost:8080/",
          "height": 34
        },
        "outputId": "5e5573ef-d4a4-4b6b-9932-a8fcc744a96b"
      },
      "source": [
        "len(groups_ids)"
      ],
      "execution_count": 18,
      "outputs": [
        {
          "output_type": "execute_result",
          "data": {
            "text/plain": [
              "15121"
            ]
          },
          "metadata": {
            "tags": []
          },
          "execution_count": 18
        }
      ]
    },
    {
      "cell_type": "code",
      "metadata": {
        "id": "SCB6wbVN6qNb",
        "colab_type": "code",
        "colab": {
          "base_uri": "https://localhost:8080/",
          "height": 1000
        },
        "outputId": "982da366-03fe-4152-fb5e-2a0ed5d2dc45"
      },
      "source": [
        "groups_ids[:10]"
      ],
      "execution_count": 19,
      "outputs": [
        {
          "output_type": "execute_result",
          "data": {
            "text/plain": [
              "[[76241217],\n",
              " [24591951,\n",
              "  44283465,\n",
              "  141995214,\n",
              "  20368056,\n",
              "  155895725,\n",
              "  170216699,\n",
              "  133125527,\n",
              "  43924253,\n",
              "  21946972,\n",
              "  15462618,\n",
              "  16773308,\n",
              "  37259484,\n",
              "  55048061,\n",
              "  65896268,\n",
              "  18331074,\n",
              "  52770369,\n",
              "  68035241,\n",
              "  32425841,\n",
              "  27925334,\n",
              "  78915981],\n",
              " [160306783,\n",
              "  163767797,\n",
              "  110418645,\n",
              "  90907483,\n",
              "  121945293,\n",
              "  86106685,\n",
              "  42448512,\n",
              "  129929507,\n",
              "  183358050,\n",
              "  150500858,\n",
              "  45622597,\n",
              "  192984652,\n",
              "  193158521,\n",
              "  182342465,\n",
              "  543755,\n",
              "  146822877,\n",
              "  193082822,\n",
              "  193082651,\n",
              "  132074224,\n",
              "  188037560],\n",
              " [160306783,\n",
              "  163767797,\n",
              "  110418645,\n",
              "  90907483,\n",
              "  121945293,\n",
              "  86106685,\n",
              "  42448512,\n",
              "  129929507,\n",
              "  183358050,\n",
              "  150500858,\n",
              "  45622597,\n",
              "  192984652,\n",
              "  193158521,\n",
              "  182342465,\n",
              "  543755,\n",
              "  146822877,\n",
              "  193082822,\n",
              "  193082651,\n",
              "  132074224,\n",
              "  188037560],\n",
              " [94695077,\n",
              "  61951703,\n",
              "  19947779,\n",
              "  193373963,\n",
              "  31240219,\n",
              "  23337357,\n",
              "  192190115,\n",
              "  29411477,\n",
              "  33469766,\n",
              "  148816134,\n",
              "  192375335,\n",
              "  77081271,\n",
              "  167367178,\n",
              "  45733941,\n",
              "  18421534,\n",
              "  49537245,\n",
              "  160189295,\n",
              "  129356262,\n",
              "  39822960,\n",
              "  22516443],\n",
              " [22277933,\n",
              "  733335,\n",
              "  190702,\n",
              "  91197755,\n",
              "  32978717,\n",
              "  39046019,\n",
              "  172474527,\n",
              "  30807508,\n",
              "  43203772,\n",
              "  57120060,\n",
              "  148856406,\n",
              "  189208830,\n",
              "  5152166,\n",
              "  43240014,\n",
              "  151030118,\n",
              "  73005358,\n",
              "  159574732,\n",
              "  113924507,\n",
              "  40140584,\n",
              "  174123626],\n",
              " [43637016,\n",
              "  52219782,\n",
              "  22060167,\n",
              "  192646327,\n",
              "  162709832,\n",
              "  175043377,\n",
              "  53665863,\n",
              "  147956878,\n",
              "  138187251,\n",
              "  164893161,\n",
              "  173927300,\n",
              "  28134330,\n",
              "  55271994,\n",
              "  171682406,\n",
              "  132330634,\n",
              "  67545156,\n",
              "  186564938,\n",
              "  195168583,\n",
              "  171487231,\n",
              "  51788541],\n",
              " [],\n",
              " [],\n",
              " []]"
            ]
          },
          "metadata": {
            "tags": []
          },
          "execution_count": 19
        }
      ]
    },
    {
      "cell_type": "markdown",
      "metadata": {
        "id": "qxIuFlJUNNB8",
        "colab_type": "text"
      },
      "source": [
        "Теперь соберём в один список все ID групп без повторов"
      ]
    },
    {
      "cell_type": "code",
      "metadata": {
        "id": "yHeQa7_X7ELG",
        "colab_type": "code",
        "colab": {}
      },
      "source": [
        "full_list = []\n",
        "for ids in groups_ids:\n",
        "  for id in ids:\n",
        "    if id in full_list:\n",
        "      continue\n",
        "    else:\n",
        "      full_list.append(id)"
      ],
      "execution_count": 0,
      "outputs": []
    },
    {
      "cell_type": "code",
      "metadata": {
        "id": "0MPRT7qb80ld",
        "colab_type": "code",
        "colab": {
          "base_uri": "https://localhost:8080/",
          "height": 34
        },
        "outputId": "b03c3748-491a-4eb6-b12d-8b8a91f61537"
      },
      "source": [
        "len(full_list)"
      ],
      "execution_count": 21,
      "outputs": [
        {
          "output_type": "execute_result",
          "data": {
            "text/plain": [
              "114455"
            ]
          },
          "metadata": {
            "tags": []
          },
          "execution_count": 21
        }
      ]
    },
    {
      "cell_type": "code",
      "metadata": {
        "id": "pLPNw3yB-28D",
        "colab_type": "code",
        "colab": {}
      },
      "source": [
        "with open(\"Список ID групп.txt\", \"w\") as file:\n",
        "  print(*full_list, file=file, sep=\"\\n\")"
      ],
      "execution_count": 0,
      "outputs": []
    },
    {
      "cell_type": "code",
      "metadata": {
        "id": "7vYaPaWnBNLd",
        "colab_type": "code",
        "colab": {}
      },
      "source": [
        "rows = zip(d_list,groups_ids)\n",
        "import csv\n",
        "with open(\"Слова и группы.csv\", \"w\") as f:\n",
        "  writer = csv.writer(f)\n",
        "  for row in rows:\n",
        "    writer.writerow(row)"
      ],
      "execution_count": 0,
      "outputs": []
    },
    {
      "cell_type": "code",
      "metadata": {
        "id": "X4V4Ba2wK2NC",
        "colab_type": "code",
        "colab": {
          "base_uri": "https://localhost:8080/",
          "height": 204
        },
        "outputId": "d043d1d1-4c28-479d-98ff-bf42a9eb65ca"
      },
      "source": [
        "together = pd.read_csv('Слова и группы.csv')\n",
        "together.head()"
      ],
      "execution_count": 32,
      "outputs": [
        {
          "output_type": "execute_result",
          "data": {
            "text/html": [
              "<div>\n",
              "<style scoped>\n",
              "    .dataframe tbody tr th:only-of-type {\n",
              "        vertical-align: middle;\n",
              "    }\n",
              "\n",
              "    .dataframe tbody tr th {\n",
              "        vertical-align: top;\n",
              "    }\n",
              "\n",
              "    .dataframe thead th {\n",
              "        text-align: right;\n",
              "    }\n",
              "</style>\n",
              "<table border=\"1\" class=\"dataframe\">\n",
              "  <thead>\n",
              "    <tr style=\"text-align: right;\">\n",
              "      <th></th>\n",
              "      <th>EMOM</th>\n",
              "      <th>[76241217]</th>\n",
              "    </tr>\n",
              "  </thead>\n",
              "  <tbody>\n",
              "    <tr>\n",
              "      <th>0</th>\n",
              "      <td>«ДЖЕНЕРАЛ</td>\n",
              "      <td>[24591951, 44283465, 141995214, 20368056, 1558...</td>\n",
              "    </tr>\n",
              "    <tr>\n",
              "      <th>1</th>\n",
              "      <td>«КОЛЛ</td>\n",
              "      <td>[160306783, 163767797, 110418645, 90907483, 12...</td>\n",
              "    </tr>\n",
              "    <tr>\n",
              "      <th>2</th>\n",
              "      <td>«КОЛЛ»</td>\n",
              "      <td>[160306783, 163767797, 110418645, 90907483, 12...</td>\n",
              "    </tr>\n",
              "    <tr>\n",
              "      <th>3</th>\n",
              "      <td>«ЛОНГ»</td>\n",
              "      <td>[94695077, 61951703, 19947779, 193373963, 3124...</td>\n",
              "    </tr>\n",
              "    <tr>\n",
              "      <th>4</th>\n",
              "      <td>«МЕДВЕДЕЙ»</td>\n",
              "      <td>[22277933, 733335, 190702, 91197755, 32978717,...</td>\n",
              "    </tr>\n",
              "  </tbody>\n",
              "</table>\n",
              "</div>"
            ],
            "text/plain": [
              "         EMOM                                         [76241217]\n",
              "0   «ДЖЕНЕРАЛ  [24591951, 44283465, 141995214, 20368056, 1558...\n",
              "1       «КОЛЛ  [160306783, 163767797, 110418645, 90907483, 12...\n",
              "2      «КОЛЛ»  [160306783, 163767797, 110418645, 90907483, 12...\n",
              "3      «ЛОНГ»  [94695077, 61951703, 19947779, 193373963, 3124...\n",
              "4  «МЕДВЕДЕЙ»  [22277933, 733335, 190702, 91197755, 32978717,..."
            ]
          },
          "metadata": {
            "tags": []
          },
          "execution_count": 32
        }
      ]
    }
  ]
}