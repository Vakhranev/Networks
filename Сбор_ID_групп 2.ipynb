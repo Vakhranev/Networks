{
  "nbformat": 4,
  "nbformat_minor": 0,
  "metadata": {
    "colab": {
      "name": "Сбор ID групп.ipynb",
      "provenance": [],
      "authorship_tag": "ABX9TyNapdiHPvcoMVkLmvpx+Wbr",
      "include_colab_link": true
    },
    "kernelspec": {
      "name": "python3",
      "display_name": "Python 3"
    }
  },
  "cells": [
    {
      "cell_type": "markdown",
      "metadata": {
        "id": "view-in-github",
        "colab_type": "text"
      },
      "source": [
        "<a href=\"https://colab.research.google.com/github/Vakhranev/Networks/blob/master/%D0%A1%D0%B1%D0%BE%D1%80_ID_%D0%B3%D1%80%D1%83%D0%BF%D0%BF%202.ipynb\" target=\"_parent\"><img src=\"https://colab.research.google.com/assets/colab-badge.svg\" alt=\"Open In Colab\"/></a>"
      ]
    },
    {
      "cell_type": "code",
      "metadata": {
        "id": "Gxh-9aU-71Sf",
        "colab_type": "code",
        "outputId": "fc1fc34d-e193-45a7-de57-7638378f68e6",
        "colab": {
          "base_uri": "https://localhost:8080/",
          "height": 255
        }
      },
      "source": [
        "!pip3 install vk --user"
      ],
      "execution_count": 1,
      "outputs": [
        {
          "output_type": "stream",
          "text": [
            "Collecting vk\n",
            "  Downloading https://files.pythonhosted.org/packages/9f/fd/698ba8b622ba57d7d936aaf7bf8256fec4e7e2e1c2f3b36fc04381df5281/vk-2.0.2.tar.gz\n",
            "Requirement already satisfied: requests<3.0,>=2.8 in /usr/local/lib/python3.6/dist-packages (from vk) (2.23.0)\n",
            "Requirement already satisfied: urllib3!=1.25.0,!=1.25.1,<1.26,>=1.21.1 in /usr/local/lib/python3.6/dist-packages (from requests<3.0,>=2.8->vk) (1.24.3)\n",
            "Requirement already satisfied: certifi>=2017.4.17 in /usr/local/lib/python3.6/dist-packages (from requests<3.0,>=2.8->vk) (2020.4.5.1)\n",
            "Requirement already satisfied: chardet<4,>=3.0.2 in /usr/local/lib/python3.6/dist-packages (from requests<3.0,>=2.8->vk) (3.0.4)\n",
            "Requirement already satisfied: idna<3,>=2.5 in /usr/local/lib/python3.6/dist-packages (from requests<3.0,>=2.8->vk) (2.9)\n",
            "Building wheels for collected packages: vk\n",
            "  Building wheel for vk (setup.py) ... \u001b[?25l\u001b[?25hdone\n",
            "  Created wheel for vk: filename=vk-2.0.2-cp36-none-any.whl size=8277 sha256=da9e36022784b31276f5b65a56fca688f59d8ec25831609063ad3b8610d98d2b\n",
            "  Stored in directory: /root/.cache/pip/wheels/4c/48/d1/09749ec47d9a30d166122773811f4ccb406f5234f2d84fd29d\n",
            "Successfully built vk\n",
            "Installing collected packages: vk\n",
            "Successfully installed vk-2.0.2\n"
          ],
          "name": "stdout"
        }
      ]
    },
    {
      "cell_type": "code",
      "metadata": {
        "id": "kZn3pH3U_Yr9",
        "colab_type": "code",
        "colab": {}
      },
      "source": [
        "import pandas as pd\n",
        "diacov = pd.read_csv('slovar_edited (2).csv')"
      ],
      "execution_count": 0,
      "outputs": []
    },
    {
      "cell_type": "code",
      "metadata": {
        "id": "wsZIv7mqBva2",
        "colab_type": "code",
        "outputId": "10ce897e-d76c-4fef-ea0f-88ffb63e967a",
        "colab": {
          "base_uri": "https://localhost:8080/",
          "height": 34
        }
      },
      "source": [
        "len(diacov)"
      ],
      "execution_count": 4,
      "outputs": [
        {
          "output_type": "execute_result",
          "data": {
            "text/plain": [
              "16132"
            ]
          },
          "metadata": {
            "tags": []
          },
          "execution_count": 4
        }
      ]
    },
    {
      "cell_type": "code",
      "metadata": {
        "id": "Q3QgTddIB3UH",
        "colab_type": "code",
        "outputId": "9ba7d478-92c1-474f-a4a7-0be707bcedc9",
        "colab": {
          "base_uri": "https://localhost:8080/",
          "height": 204
        }
      },
      "source": [
        "diacov.head()"
      ],
      "execution_count": 5,
      "outputs": [
        {
          "output_type": "execute_result",
          "data": {
            "text/html": [
              "<div>\n",
              "<style scoped>\n",
              "    .dataframe tbody tr th:only-of-type {\n",
              "        vertical-align: middle;\n",
              "    }\n",
              "\n",
              "    .dataframe tbody tr th {\n",
              "        vertical-align: top;\n",
              "    }\n",
              "\n",
              "    .dataframe thead th {\n",
              "        text-align: right;\n",
              "    }\n",
              "</style>\n",
              "<table border=\"1\" class=\"dataframe\">\n",
              "  <thead>\n",
              "    <tr style=\"text-align: right;\">\n",
              "      <th></th>\n",
              "      <th>(БОНГ)</th>\n",
              "    </tr>\n",
              "  </thead>\n",
              "  <tbody>\n",
              "    <tr>\n",
              "      <th>0</th>\n",
              "      <td>A</td>\n",
              "    </tr>\n",
              "    <tr>\n",
              "      <th>1</th>\n",
              "      <td>AAA</td>\n",
              "    </tr>\n",
              "    <tr>\n",
              "      <th>2</th>\n",
              "      <td>AM</td>\n",
              "    </tr>\n",
              "    <tr>\n",
              "      <th>3</th>\n",
              "      <td>C</td>\n",
              "    </tr>\n",
              "    <tr>\n",
              "      <th>4</th>\n",
              "      <td>DVD</td>\n",
              "    </tr>\n",
              "  </tbody>\n",
              "</table>\n",
              "</div>"
            ],
            "text/plain": [
              "  (БОНГ)\n",
              "0      A\n",
              "1    AAA\n",
              "2     AM\n",
              "3      C\n",
              "4    DVD"
            ]
          },
          "metadata": {
            "tags": []
          },
          "execution_count": 5
        }
      ]
    },
    {
      "cell_type": "markdown",
      "metadata": {
        "id": "42ItMhegMeDm",
        "colab_type": "text"
      },
      "source": [
        "Уберём из списка все слова, в которых менее 4 символов"
      ]
    },
    {
      "cell_type": "code",
      "metadata": {
        "id": "kpUWOIBxClpm",
        "colab_type": "code",
        "outputId": "654745d6-195c-416f-b197-c00624b11e1a",
        "colab": {
          "base_uri": "https://localhost:8080/",
          "height": 34
        }
      },
      "source": [
        "d_list = []\n",
        "for word in diacov['(БОНГ)']:\n",
        "  if len(word) > 3:\n",
        "    d_list.append(word)\n",
        "len(d_list)"
      ],
      "execution_count": 45,
      "outputs": [
        {
          "output_type": "execute_result",
          "data": {
            "text/plain": [
              "15121"
            ]
          },
          "metadata": {
            "tags": []
          },
          "execution_count": 45
        }
      ]
    },
    {
      "cell_type": "code",
      "metadata": {
        "id": "qw96LcDJSe62",
        "colab_type": "code",
        "outputId": "08318561-6c6d-43ed-9865-1473078294ad",
        "colab": {
          "base_uri": "https://localhost:8080/",
          "height": 272
        }
      },
      "source": [
        "!pip install vk_api"
      ],
      "execution_count": 8,
      "outputs": [
        {
          "output_type": "stream",
          "text": [
            "Collecting vk_api\n",
            "  Downloading https://files.pythonhosted.org/packages/74/7c/435c5e1d7ac7b688b967f0bece58687671dcad6b4260eade1b049dc16403/vk_api-11.8.0.tar.gz\n",
            "Requirement already satisfied: requests in /usr/local/lib/python3.6/dist-packages (from vk_api) (2.23.0)\n",
            "Requirement already satisfied: six in /usr/local/lib/python3.6/dist-packages (from vk_api) (1.12.0)\n",
            "Requirement already satisfied: chardet<4,>=3.0.2 in /usr/local/lib/python3.6/dist-packages (from requests->vk_api) (3.0.4)\n",
            "Requirement already satisfied: certifi>=2017.4.17 in /usr/local/lib/python3.6/dist-packages (from requests->vk_api) (2020.4.5.1)\n",
            "Requirement already satisfied: urllib3!=1.25.0,!=1.25.1,<1.26,>=1.21.1 in /usr/local/lib/python3.6/dist-packages (from requests->vk_api) (1.24.3)\n",
            "Requirement already satisfied: idna<3,>=2.5 in /usr/local/lib/python3.6/dist-packages (from requests->vk_api) (2.9)\n",
            "Building wheels for collected packages: vk-api\n",
            "  Building wheel for vk-api (setup.py) ... \u001b[?25l\u001b[?25hdone\n",
            "  Created wheel for vk-api: filename=vk_api-11.8.0-cp36-none-any.whl size=42249 sha256=77e92aa23726b0008d659d7bde6d76a41bcba495b4628c2ba0b2063b705571f7\n",
            "  Stored in directory: /root/.cache/pip/wheels/39/bb/05/c3d370a1097f993c1089e0c6265f7cb782b4a583110f747805\n",
            "Successfully built vk-api\n",
            "Installing collected packages: vk-api\n",
            "Successfully installed vk-api-11.8.0\n"
          ],
          "name": "stdout"
        }
      ]
    },
    {
      "cell_type": "code",
      "metadata": {
        "id": "Vl2NhZQ97r8I",
        "colab_type": "code",
        "colab": {
          "base_uri": "https://localhost:8080/",
          "height": 343
        },
        "outputId": "956e7b10-a343-4e93-9f7f-4683b8452618"
      },
      "source": [
        "!pip install vkstreaming"
      ],
      "execution_count": 15,
      "outputs": [
        {
          "output_type": "stream",
          "text": [
            "Collecting vkstreaming\n",
            "  Downloading https://files.pythonhosted.org/packages/9e/f5/e39f96bc744a1b5f9d40fc36e8030d79886f69ca3a14ecf30022b508e883/vkstreaming-0.4.tar.gz\n",
            "Requirement already satisfied: requests in /usr/local/lib/python3.6/dist-packages (from vkstreaming) (2.23.0)\n",
            "Collecting websocket-client\n",
            "\u001b[?25l  Downloading https://files.pythonhosted.org/packages/4c/5f/f61b420143ed1c8dc69f9eaec5ff1ac36109d52c80de49d66e0c36c3dfdf/websocket_client-0.57.0-py2.py3-none-any.whl (200kB)\n",
            "\u001b[K     |████████████████████████████████| 204kB 2.7MB/s \n",
            "\u001b[?25hRequirement already satisfied: urllib3!=1.25.0,!=1.25.1,<1.26,>=1.21.1 in /usr/local/lib/python3.6/dist-packages (from requests->vkstreaming) (1.24.3)\n",
            "Requirement already satisfied: chardet<4,>=3.0.2 in /usr/local/lib/python3.6/dist-packages (from requests->vkstreaming) (3.0.4)\n",
            "Requirement already satisfied: idna<3,>=2.5 in /usr/local/lib/python3.6/dist-packages (from requests->vkstreaming) (2.9)\n",
            "Requirement already satisfied: certifi>=2017.4.17 in /usr/local/lib/python3.6/dist-packages (from requests->vkstreaming) (2020.4.5.1)\n",
            "Requirement already satisfied: six in /usr/local/lib/python3.6/dist-packages (from websocket-client->vkstreaming) (1.12.0)\n",
            "Building wheels for collected packages: vkstreaming\n",
            "  Building wheel for vkstreaming (setup.py) ... \u001b[?25l\u001b[?25hdone\n",
            "  Created wheel for vkstreaming: filename=vkstreaming-0.4-cp36-none-any.whl size=3857 sha256=7a49a4b718be36902f8ada4ecba33a0ee1444a6ba5d16f8830c47b4c8f0433b3\n",
            "  Stored in directory: /root/.cache/pip/wheels/e7/49/2f/70df603cf85219d7ecf8e9ba7fec2511c6ab8f98a9a415bfb1\n",
            "Successfully built vkstreaming\n",
            "Installing collected packages: websocket-client, vkstreaming\n",
            "Successfully installed vkstreaming-0.4 websocket-client-0.57.0\n"
          ],
          "name": "stdout"
        }
      ]
    },
    {
      "cell_type": "code",
      "metadata": {
        "id": "Grpnsbqh8hmj",
        "colab_type": "code",
        "colab": {}
      },
      "source": [
        "from vkstreaming import Streaming"
      ],
      "execution_count": 0,
      "outputs": []
    },
    {
      "cell_type": "code",
      "metadata": {
        "id": "GZAFaQTrPviY",
        "colab_type": "code",
        "colab": {}
      },
      "source": [
        "VER = \"5.68\"\n",
        "def getServerUrl(access_token, proxy_host=None, proxy_port=None, ver=VER):\n",
        "    \"\"\"\n",
        "    :param access_token: Токен\n",
        "    Возвращает Хост для подключения к серверу и ключ доступа\n",
        "    \"\"\"\n",
        "    proxies = None\n",
        "    if proxy_host:\n",
        "        proxies = {'https': proxy_host+':'+str(proxy_port)}\n",
        "\n",
        "    url = \"https://api.vk.com/method/streaming.getServerUrl?v=\" + \\\n",
        "        ver + \"&access_token=\" + access_token\n",
        "    response = requests.get(url, proxies=proxies).json()\n",
        "    if 'error' in response:\n",
        "        raise VkError(response['error']['error_code'],\n",
        "                      response['error']['error_msg'])\n",
        "    return response[\"response\"]"
      ],
      "execution_count": 0,
      "outputs": []
    },
    {
      "cell_type": "code",
      "metadata": {
        "id": "VOK3cpDk73AB",
        "colab_type": "code",
        "colab": {}
      },
      "source": [
        "import json\n",
        "import requests\n",
        "import websocket\n",
        "response = getServerUrl('47c7934e47c7934e47c7934e4b47b5d9aa447c747c7934e1921a1e5831d3b9e21b384f4')\n",
        "api = Streaming(response[\"endpoint\"], response[\"key\"])"
      ],
      "execution_count": 0,
      "outputs": []
    },
    {
      "cell_type": "code",
      "metadata": {
        "id": "wAl0PTJoCACi",
        "colab_type": "code",
        "colab": {}
      },
      "source": [
        "api.del_all_rules()"
      ],
      "execution_count": 0,
      "outputs": []
    },
    {
      "cell_type": "code",
      "metadata": {
        "id": "cqHatActQfZ2",
        "colab_type": "code",
        "colab": {
          "base_uri": "https://localhost:8080/",
          "height": 316
        },
        "outputId": "26bdc6a8-2d0d-49a5-a6f6-5cfc933f4624"
      },
      "source": [
        "api.add_rules('Англицизмы', d_list[:300])\n",
        "rules = api.get_rules()\n",
        "rules"
      ],
      "execution_count": 47,
      "outputs": [
        {
          "output_type": "error",
          "ename": "VkError",
          "evalue": "ignored",
          "traceback": [
            "\u001b[0;31m---------------------------------------------------------------------------\u001b[0m",
            "\u001b[0;31mVkError\u001b[0m                                   Traceback (most recent call last)",
            "\u001b[0;32m<ipython-input-47-655aaaf42366>\u001b[0m in \u001b[0;36m<module>\u001b[0;34m()\u001b[0m\n\u001b[0;32m----> 1\u001b[0;31m \u001b[0mapi\u001b[0m\u001b[0;34m.\u001b[0m\u001b[0madd_rules\u001b[0m\u001b[0;34m(\u001b[0m\u001b[0;34m'Англицизмы'\u001b[0m\u001b[0;34m,\u001b[0m \u001b[0md_list\u001b[0m\u001b[0;34m[\u001b[0m\u001b[0;34m:\u001b[0m\u001b[0;36m300\u001b[0m\u001b[0;34m]\u001b[0m\u001b[0;34m)\u001b[0m\u001b[0;34m\u001b[0m\u001b[0;34m\u001b[0m\u001b[0m\n\u001b[0m\u001b[1;32m      2\u001b[0m \u001b[0mrules\u001b[0m \u001b[0;34m=\u001b[0m \u001b[0mapi\u001b[0m\u001b[0;34m.\u001b[0m\u001b[0mget_rules\u001b[0m\u001b[0;34m(\u001b[0m\u001b[0;34m)\u001b[0m\u001b[0;34m\u001b[0m\u001b[0;34m\u001b[0m\u001b[0m\n\u001b[1;32m      3\u001b[0m \u001b[0mrules\u001b[0m\u001b[0;34m\u001b[0m\u001b[0;34m\u001b[0m\u001b[0m\n",
            "\u001b[0;32m/usr/local/lib/python3.6/dist-packages/vkstreaming/core.py\u001b[0m in \u001b[0;36madd_rules\u001b[0;34m(self, tag, value)\u001b[0m\n\u001b[1;32m    110\u001b[0m         \u001b[0;32mif\u001b[0m \u001b[0mresponse\u001b[0m\u001b[0;34m[\u001b[0m\u001b[0;34m'code'\u001b[0m\u001b[0;34m]\u001b[0m \u001b[0;34m!=\u001b[0m \u001b[0;36m200\u001b[0m\u001b[0;34m:\u001b[0m\u001b[0;34m\u001b[0m\u001b[0;34m\u001b[0m\u001b[0m\n\u001b[1;32m    111\u001b[0m             raise VkError(response['error']['error_code'],\n\u001b[0;32m--> 112\u001b[0;31m                           response['error']['message'])\n\u001b[0m\u001b[1;32m    113\u001b[0m \u001b[0;34m\u001b[0m\u001b[0m\n\u001b[1;32m    114\u001b[0m     \u001b[0;32mdef\u001b[0m \u001b[0mdel_rules\u001b[0m\u001b[0;34m(\u001b[0m\u001b[0mself\u001b[0m\u001b[0;34m,\u001b[0m \u001b[0mtag\u001b[0m\u001b[0;34m)\u001b[0m\u001b[0;34m:\u001b[0m\u001b[0;34m\u001b[0m\u001b[0;34m\u001b[0m\u001b[0m\n",
            "\u001b[0;31mVkError\u001b[0m: 2000: Can't parse json"
          ]
        }
      ]
    }
  ]
}